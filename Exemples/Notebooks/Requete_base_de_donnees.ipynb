{
 "cells": [
  {
   "cell_type": "code",
   "execution_count": 8,
   "id": "7317d4d3",
   "metadata": {},
   "outputs": [],
   "source": [
    "import pandas as pd\n",
    "import psycopg2"
   ]
  },
  {
   "cell_type": "code",
   "execution_count": 9,
   "id": "dc74dd10",
   "metadata": {},
   "outputs": [],
   "source": [
    "# Paramètres de la connexion\n",
    "db_user = 'postgres'\n",
    "db_password = 'pass123'\n",
    "db_host = '127.0.0.1'\n",
    "db_port = '5432'\n",
    "db_name = 'postgres'"
   ]
  },
  {
   "cell_type": "code",
   "execution_count": 10,
   "id": "f2dfaa04",
   "metadata": {},
   "outputs": [
    {
     "data": {
      "text/html": [
       "<div>\n",
       "<style scoped>\n",
       "    .dataframe tbody tr th:only-of-type {\n",
       "        vertical-align: middle;\n",
       "    }\n",
       "\n",
       "    .dataframe tbody tr th {\n",
       "        vertical-align: top;\n",
       "    }\n",
       "\n",
       "    .dataframe thead th {\n",
       "        text-align: right;\n",
       "    }\n",
       "</style>\n",
       "<table border=\"1\" class=\"dataframe\">\n",
       "  <thead>\n",
       "    <tr style=\"text-align: right;\">\n",
       "      <th></th>\n",
       "      <th>id</th>\n",
       "      <th>nom</th>\n",
       "      <th>email</th>\n",
       "      <th>mot_de_passe</th>\n",
       "      <th>date_inscription</th>\n",
       "    </tr>\n",
       "  </thead>\n",
       "  <tbody>\n",
       "    <tr>\n",
       "      <th>0</th>\n",
       "      <td>1</td>\n",
       "      <td>Alice Dupont</td>\n",
       "      <td>alice.dupont@example.com</td>\n",
       "      <td>password1</td>\n",
       "      <td>2024-08-22 16:31:33.413063</td>\n",
       "    </tr>\n",
       "    <tr>\n",
       "      <th>1</th>\n",
       "      <td>2</td>\n",
       "      <td>Bob Martin</td>\n",
       "      <td>bob.martin@example.com</td>\n",
       "      <td>password2</td>\n",
       "      <td>2024-08-22 16:31:33.413063</td>\n",
       "    </tr>\n",
       "    <tr>\n",
       "      <th>2</th>\n",
       "      <td>3</td>\n",
       "      <td>Charlie Durand</td>\n",
       "      <td>charlie.durand@example.com</td>\n",
       "      <td>password3</td>\n",
       "      <td>2024-08-22 16:31:33.413063</td>\n",
       "    </tr>\n",
       "    <tr>\n",
       "      <th>3</th>\n",
       "      <td>4</td>\n",
       "      <td>Diane Leroy</td>\n",
       "      <td>diane.leroy@example.com</td>\n",
       "      <td>password4</td>\n",
       "      <td>2024-08-22 16:31:33.413063</td>\n",
       "    </tr>\n",
       "  </tbody>\n",
       "</table>\n",
       "</div>"
      ],
      "text/plain": [
       "   id             nom                       email mot_de_passe  \\\n",
       "0   1    Alice Dupont    alice.dupont@example.com    password1   \n",
       "1   2      Bob Martin      bob.martin@example.com    password2   \n",
       "2   3  Charlie Durand  charlie.durand@example.com    password3   \n",
       "3   4     Diane Leroy     diane.leroy@example.com    password4   \n",
       "\n",
       "            date_inscription  \n",
       "0 2024-08-22 16:31:33.413063  \n",
       "1 2024-08-22 16:31:33.413063  \n",
       "2 2024-08-22 16:31:33.413063  \n",
       "3 2024-08-22 16:31:33.413063  "
      ]
     },
     "execution_count": 10,
     "metadata": {},
     "output_type": "execute_result"
    }
   ],
   "source": [
    "from sqlalchemy import create_engine\n",
    "\n",
    "# Créer une chaîne de connexion PostgreSQL compatible avec SQLAlchemy\n",
    "connection_string = f\"postgresql://{db_user}:{db_password}@{db_host}:{db_port}/{db_name}\"\n",
    "\n",
    "# Créer le moteur SQLAlchemy\n",
    "engine = create_engine(connection_string)\n",
    "\n",
    "# Requête SQL\n",
    "requete_sql = \"SELECT * FROM public.utilisateurs;\"\n",
    "\n",
    "# Utilisation de pandas pour exécuter la requête et récupérer les données sous forme de DataFrame\n",
    "df = pd.read_sql(requete_sql, engine)\n",
    "\n",
    "# Afficher les premières lignes du DataFrame\n",
    "df.head()"
   ]
  },
  {
   "cell_type": "code",
   "execution_count": 12,
   "id": "411e4619",
   "metadata": {},
   "outputs": [
    {
     "data": {
      "text/html": [
       "<div>\n",
       "<style scoped>\n",
       "    .dataframe tbody tr th:only-of-type {\n",
       "        vertical-align: middle;\n",
       "    }\n",
       "\n",
       "    .dataframe tbody tr th {\n",
       "        vertical-align: top;\n",
       "    }\n",
       "\n",
       "    .dataframe thead th {\n",
       "        text-align: right;\n",
       "    }\n",
       "</style>\n",
       "<table border=\"1\" class=\"dataframe\">\n",
       "  <thead>\n",
       "    <tr style=\"text-align: right;\">\n",
       "      <th></th>\n",
       "      <th>id</th>\n",
       "      <th>nom</th>\n",
       "      <th>email</th>\n",
       "      <th>mot_de_passe</th>\n",
       "      <th>date_inscription</th>\n",
       "    </tr>\n",
       "  </thead>\n",
       "  <tbody>\n",
       "    <tr>\n",
       "      <th>1</th>\n",
       "      <td>2</td>\n",
       "      <td>Bob Martin</td>\n",
       "      <td>bob.martin@example.com</td>\n",
       "      <td>password2</td>\n",
       "      <td>2024-08-22 16:31:33.413063</td>\n",
       "    </tr>\n",
       "  </tbody>\n",
       "</table>\n",
       "</div>"
      ],
      "text/plain": [
       "   id         nom                   email mot_de_passe  \\\n",
       "1   2  Bob Martin  bob.martin@example.com    password2   \n",
       "\n",
       "            date_inscription  \n",
       "1 2024-08-22 16:31:33.413063  "
      ]
     },
     "execution_count": 12,
     "metadata": {},
     "output_type": "execute_result"
    }
   ],
   "source": [
    "df[df[\"nom\"] == \"Bob Martin\"]"
   ]
  },
  {
   "cell_type": "code",
   "execution_count": null,
   "id": "77f3dcb3",
   "metadata": {},
   "outputs": [],
   "source": []
  }
 ],
 "metadata": {
  "kernelspec": {
   "display_name": "Python 3 (ipykernel)",
   "language": "python",
   "name": "python3"
  },
  "language_info": {
   "codemirror_mode": {
    "name": "ipython",
    "version": 3
   },
   "file_extension": ".py",
   "mimetype": "text/x-python",
   "name": "python",
   "nbconvert_exporter": "python",
   "pygments_lexer": "ipython3",
   "version": "3.10.9"
  }
 },
 "nbformat": 4,
 "nbformat_minor": 5
}
