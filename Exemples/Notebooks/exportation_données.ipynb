{
 "cells": [
  {
   "cell_type": "code",
   "execution_count": 5,
   "id": "7312bc9c",
   "metadata": {},
   "outputs": [],
   "source": [
    "# Écriture dans un fichier texte\n",
    "with open('output.txt', 'w', encoding='utf8') as file:\n",
    "    file.write(\"Contenu à écrire dans le fichier.\")"
   ]
  },
  {
   "cell_type": "code",
   "execution_count": 6,
   "id": "132c65ee",
   "metadata": {},
   "outputs": [],
   "source": [
    "import json\n",
    "#Ecriture dans un fichier json\n",
    "data = {'FirstName': 'John', 'LastName': 'Doe', 'Colonne1': [1, 2, 3]}\n",
    "with open('output.json', 'w') as f:\n",
    "    json.dump(data, f, indent=2)"
   ]
  },
  {
   "cell_type": "markdown",
   "id": "ca033ef7",
   "metadata": {
    "panel-layout": {
     "height": 50.830360412597656,
     "visible": true,
     "width": 100
    }
   },
   "source": [
    "## Création de fichier CSV"
   ]
  },
  {
   "cell_type": "code",
   "execution_count": 7,
   "id": "68245e4a",
   "metadata": {
    "panel-layout": {
     "height": 116.00000762939453,
     "visible": true,
     "width": 100
    }
   },
   "outputs": [
    {
     "data": {
      "text/html": [
       "<div>\n",
       "<style scoped>\n",
       "    .dataframe tbody tr th:only-of-type {\n",
       "        vertical-align: middle;\n",
       "    }\n",
       "\n",
       "    .dataframe tbody tr th {\n",
       "        vertical-align: top;\n",
       "    }\n",
       "\n",
       "    .dataframe thead th {\n",
       "        text-align: right;\n",
       "    }\n",
       "</style>\n",
       "<table border=\"1\" class=\"dataframe\">\n",
       "  <thead>\n",
       "    <tr style=\"text-align: right;\">\n",
       "      <th></th>\n",
       "      <th>Colonne1</th>\n",
       "      <th>Colonne2</th>\n",
       "    </tr>\n",
       "  </thead>\n",
       "  <tbody>\n",
       "    <tr>\n",
       "      <th>0</th>\n",
       "      <td>1</td>\n",
       "      <td>A</td>\n",
       "    </tr>\n",
       "    <tr>\n",
       "      <th>1</th>\n",
       "      <td>2</td>\n",
       "      <td>B</td>\n",
       "    </tr>\n",
       "    <tr>\n",
       "      <th>2</th>\n",
       "      <td>3</td>\n",
       "      <td>C</td>\n",
       "    </tr>\n",
       "  </tbody>\n",
       "</table>\n",
       "</div>"
      ],
      "text/plain": [
       "   Colonne1 Colonne2\n",
       "0         1        A\n",
       "1         2        B\n",
       "2         3        C"
      ]
     },
     "metadata": {},
     "output_type": "display_data"
    }
   ],
   "source": [
    "import pandas as pd\n",
    "\n",
    "# Création d'un DataFrame\n",
    "data = {'Colonne1': [1, 2, 3], 'Colonne2': ['A', 'B', 'C']}\n",
    "df = pd.DataFrame(data)\n",
    "\n",
    "display(df)"
   ]
  },
  {
   "cell_type": "code",
   "execution_count": 8,
   "id": "da3f9ba0",
   "metadata": {
    "panel-layout": {
     "height": 0,
     "visible": true,
     "width": 100
    }
   },
   "outputs": [
    {
     "name": "stdout",
     "output_type": "stream",
     "text": [
      "Fichier créé\n"
     ]
    }
   ],
   "source": [
    "# Exportation vers un fichier CSV\n",
    "df.to_csv('output.csv')\n",
    "print(\"Fichier créé\")"
   ]
  },
  {
   "cell_type": "code",
   "execution_count": 9,
   "id": "588ea702",
   "metadata": {
    "panel-layout": {
     "height": 0,
     "visible": true,
     "width": 100
    }
   },
   "outputs": [
    {
     "name": "stdout",
     "output_type": "stream",
     "text": [
      "Fichier créé\n"
     ]
    }
   ],
   "source": [
    "df.to_csv('output.csv', index=False, sep=\";\")\n",
    "print(\"Fichier créé\")"
   ]
  },
  {
   "cell_type": "markdown",
   "id": "152185fb",
   "metadata": {
    "panel-layout": {
     "height": 50.830360412597656,
     "visible": true,
     "width": 100
    }
   },
   "source": [
    "## Création d'un fichier Excel"
   ]
  },
  {
   "cell_type": "code",
   "execution_count": 10,
   "id": "3733f30a",
   "metadata": {
    "panel-layout": {
     "height": 0,
     "visible": true,
     "width": 100
    }
   },
   "outputs": [
    {
     "name": "stdout",
     "output_type": "stream",
     "text": [
      "Fichier créé\n"
     ]
    }
   ],
   "source": [
    "# Exportation vers un fichier Excel\n",
    "df.to_excel('output.xlsx', index=False)\n",
    "print(\"Fichier créé\")"
   ]
  },
  {
   "cell_type": "code",
   "execution_count": 11,
   "id": "dcc81f0b",
   "metadata": {
    "panel-layout": {
     "height": 89.71428680419922,
     "visible": true,
     "width": 100
    }
   },
   "outputs": [
    {
     "data": {
      "text/html": [
       "<div>\n",
       "<style scoped>\n",
       "    .dataframe tbody tr th:only-of-type {\n",
       "        vertical-align: middle;\n",
       "    }\n",
       "\n",
       "    .dataframe tbody tr th {\n",
       "        vertical-align: top;\n",
       "    }\n",
       "\n",
       "    .dataframe thead th {\n",
       "        text-align: right;\n",
       "    }\n",
       "</style>\n",
       "<table border=\"1\" class=\"dataframe\">\n",
       "  <thead>\n",
       "    <tr style=\"text-align: right;\">\n",
       "      <th></th>\n",
       "      <th>Colonne1</th>\n",
       "      <th>Colonne2</th>\n",
       "    </tr>\n",
       "  </thead>\n",
       "  <tbody>\n",
       "    <tr>\n",
       "      <th>0</th>\n",
       "      <td>1</td>\n",
       "      <td>A</td>\n",
       "    </tr>\n",
       "    <tr>\n",
       "      <th>1</th>\n",
       "      <td>2</td>\n",
       "      <td>B</td>\n",
       "    </tr>\n",
       "  </tbody>\n",
       "</table>\n",
       "</div>"
      ],
      "text/plain": [
       "   Colonne1 Colonne2\n",
       "0         1        A\n",
       "1         2        B"
      ]
     },
     "execution_count": 11,
     "metadata": {},
     "output_type": "execute_result"
    }
   ],
   "source": [
    "df_modifie1 = df.drop(2)\n",
    "df_modifie1"
   ]
  },
  {
   "cell_type": "code",
   "execution_count": 12,
   "id": "6141cfbc",
   "metadata": {
    "panel-layout": {
     "height": 0,
     "visible": true,
     "width": 100
    }
   },
   "outputs": [
    {
     "name": "stdout",
     "output_type": "stream",
     "text": [
      "Fichier créé\n"
     ]
    }
   ],
   "source": [
    "#chemin_complet = r\"D:\\Users\\amine\\Documents\\Temp\\Buffer\\output.xlsx\"\n",
    "chemin_complet = \"output_v2.xlsx\"\n",
    "df_modifie1.to_excel(chemin_complet, index=False)\n",
    "print(\"Fichier créé\")"
   ]
  },
  {
   "cell_type": "code",
   "execution_count": 13,
   "id": "304edd9f",
   "metadata": {
    "panel-layout": {
     "height": 0,
     "visible": true,
     "width": 100
    }
   },
   "outputs": [
    {
     "name": "stdout",
     "output_type": "stream",
     "text": [
      "Fichier créé\n"
     ]
    }
   ],
   "source": [
    "# Création d'un fichier Excel avec plusieurs onglets\n",
    "with pd.ExcelWriter(\"output_v3.xlsx\") as writer:  \n",
    "    df.to_excel(writer, sheet_name='Complet')\n",
    "    df_modifie1.to_excel(writer, sheet_name='Modifié')\n",
    "\n",
    "print(\"Fichier créé\")"
   ]
  }
 ],
 "metadata": {
  "kernelspec": {
   "display_name": "Python 3 (ipykernel)",
   "language": "python",
   "name": "python3"
  },
  "language_info": {
   "codemirror_mode": {
    "name": "ipython",
    "version": 3
   },
   "file_extension": ".py",
   "mimetype": "text/x-python",
   "name": "python",
   "nbconvert_exporter": "python",
   "pygments_lexer": "ipython3",
   "version": "3.11.5"
  },
  "panel-cell-order": [
   "ca033ef7",
   "68245e4a",
   "da3f9ba0",
   "588ea702",
   "152185fb",
   "3733f30a",
   "dcc81f0b",
   "6141cfbc",
   "304edd9f"
  ]
 },
 "nbformat": 4,
 "nbformat_minor": 5
}
